{
 "cells": [
  {
   "cell_type": "markdown",
   "id": "f0da326d-9dee-4fb7-b98b-cf22c6eebb09",
   "metadata": {},
   "source": [
    "# Data Science Notebook\n"
   ]
  },
  {
   "cell_type": "markdown",
   "id": "ef89287a-a756-474d-bcf4-802dbf6a0c1c",
   "metadata": {},
   "source": [
    "# This notebook will demonstrate several key aspects of Data Science, including languages, libraries, and tools."
   ]
  },
  {
   "cell_type": "markdown",
   "id": "df5bc9b6-8aa5-43f5-9074-ff83048a87b8",
   "metadata": {},
   "source": [
    "In Data Science, several programming languages are commonly used, such as:\r\n",
    "1. Python\r\n",
    "2. R\r\n",
    "3. SQL\r\n",
    "4. Julia\r\n",
    "5.Java\r\n"
   ]
  },
  {
   "cell_type": "markdown",
   "id": "899e896c-57b9-495c-a402-9908b1403892",
   "metadata": {},
   "source": [
    "The following are some commonly used libraries in Data Science:\r\n",
    "1. NumPy\r\n",
    "2. Pandas\r\n",
    "3. Matplotlib\r\n",
    "4. Scikit-learn\r\n",
    "5. TensoFlow\r\n"
   ]
  },
  {
   "cell_type": "markdown",
   "id": "dd8cde07-091d-4529-84c1-d93e4cf08893",
   "metadata": {},
   "source": [
    "| Tool           | Purpose                     |\r\n",
    "|----------------|-----------------------------|\r\n",
    "| Jupyter        | Notebook Environment         |\r\n",
    "| RStudio        | IDE for R                    |\r\n",
    "| Apache Spark   | Big Data Processing          |\r\n",
    "| Tableau        | Data Visualization           |\r\n",
    "| KNIME          | Data Analytics Platform     |\r\n"
   ]
  },
  {
   "cell_type": "markdown",
   "id": "bd91189d-09ff-46f2-b5e2-fe0d17f6b893",
   "metadata": {},
   "source": [
    "# Below are some examples of basic arithmetic expressions in Python.\n"
   ]
  },
  {
   "cell_type": "code",
   "execution_count": null,
   "id": "dce2d26c-8320-45ff-a411-8ca72e28c5bb",
   "metadata": {},
   "outputs": [],
   "source": [
    "result = (3 * 4) + 5\n",
    "result"
   ]
  }
 ],
 "metadata": {
  "kernelspec": {
   "display_name": "Python 3 (ipykernel)",
   "language": "python",
   "name": "python3"
  },
  "language_info": {
   "codemirror_mode": {
    "name": "ipython",
    "version": 3
   },
   "file_extension": ".py",
   "mimetype": "text/x-python",
   "name": "python",
   "nbconvert_exporter": "python",
   "pygments_lexer": "ipython3",
   "version": "3.12.4"
  }
 },
 "nbformat": 4,
 "nbformat_minor": 5
}
